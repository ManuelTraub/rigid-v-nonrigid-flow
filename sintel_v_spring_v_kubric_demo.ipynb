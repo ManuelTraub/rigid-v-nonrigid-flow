{
 "cells": [
  {
   "cell_type": "code",
   "execution_count": 1,
   "metadata": {},
   "outputs": [
    {
     "ename": "ModuleNotFoundError",
     "evalue": "No module named 'iofun'",
     "output_type": "error",
     "traceback": [
      "\u001b[0;31m---------------------------------------------------------------------------\u001b[0m",
      "\u001b[0;31mModuleNotFoundError\u001b[0m                       Traceback (most recent call last)",
      "\u001b[1;32m/home/mbannert/experiments/TrueScenometry/code/demo_for_kubric_authors/rigid-v-nonrigid-flow/sintel_v_spring_v_kubric_demo.ipynb Cell 1\u001b[0m line \u001b[0;36m2\n\u001b[1;32m      <a href='vscode-notebook-cell://attached-container%2B7b22636f6e7461696e65724e616d65223a222f6d6d622d636f6d7075746572766973696f6e2d31222c2273657474696e6773223a7b22686f7374223a227373683a2f2f676261727431227d7d/home/mbannert/experiments/TrueScenometry/code/demo_for_kubric_authors/rigid-v-nonrigid-flow/sintel_v_spring_v_kubric_demo.ipynb#W0sdnNjb2RlLXJlbW90ZQ%3D%3D?line=0'>1</a>\u001b[0m \u001b[39mimport\u001b[39;00m \u001b[39mos\u001b[39;00m\n\u001b[0;32m----> <a href='vscode-notebook-cell://attached-container%2B7b22636f6e7461696e65724e616d65223a222f6d6d622d636f6d7075746572766973696f6e2d31222c2273657474696e6773223a7b22686f7374223a227373683a2f2f676261727431227d7d/home/mbannert/experiments/TrueScenometry/code/demo_for_kubric_authors/rigid-v-nonrigid-flow/sintel_v_spring_v_kubric_demo.ipynb#W0sdnNjb2RlLXJlbW90ZQ%3D%3D?line=1'>2</a>\u001b[0m \u001b[39mimport\u001b[39;00m \u001b[39miofun\u001b[39;00m\u001b[39m.\u001b[39;00m\u001b[39mwrappers\u001b[39;00m \u001b[39mas\u001b[39;00m \u001b[39mwrappers\u001b[39;00m\n\u001b[1;32m      <a href='vscode-notebook-cell://attached-container%2B7b22636f6e7461696e65724e616d65223a222f6d6d622d636f6d7075746572766973696f6e2d31222c2273657474696e6773223a7b22686f7374223a227373683a2f2f676261727431227d7d/home/mbannert/experiments/TrueScenometry/code/demo_for_kubric_authors/rigid-v-nonrigid-flow/sintel_v_spring_v_kubric_demo.ipynb#W0sdnNjb2RlLXJlbW90ZQ%3D%3D?line=2'>3</a>\u001b[0m \u001b[39mfrom\u001b[39;00m \u001b[39mtools\u001b[39;00m\u001b[39m.\u001b[39;00m\u001b[39mutils\u001b[39;00m \u001b[39mimport\u001b[39;00m interpolate_nans\n\u001b[1;32m      <a href='vscode-notebook-cell://attached-container%2B7b22636f6e7461696e65724e616d65223a222f6d6d622d636f6d7075746572766973696f6e2d31222c2273657474696e6773223a7b22686f7374223a227373683a2f2f676261727431227d7d/home/mbannert/experiments/TrueScenometry/code/demo_for_kubric_authors/rigid-v-nonrigid-flow/sintel_v_spring_v_kubric_demo.ipynb#W0sdnNjb2RlLXJlbW90ZQ%3D%3D?line=3'>4</a>\u001b[0m \u001b[39mfrom\u001b[39;00m \u001b[39mtools\u001b[39;00m\u001b[39m.\u001b[39;00m\u001b[39mviz\u001b[39;00m \u001b[39mimport\u001b[39;00m visualize_results\n",
      "\u001b[0;31mModuleNotFoundError\u001b[0m: No module named 'iofun'"
     ]
    }
   ],
   "source": [
    "import os\n",
    "import iofun.wrappers as wrappers\n",
    "from tools.utils import interpolate_nans\n",
    "from tools.viz import visualize_results\n",
    "from tools.flowcalc import calc_rigid_and_nonrigid_flow\n",
    "import matplotlib.pyplot as plt\n"
   ]
  },
  {
   "cell_type": "code",
   "execution_count": null,
   "metadata": {},
   "outputs": [],
   "source": [
    "%matplotlib inline\n",
    " \n",
    "op = os.path"
   ]
  },
  {
   "cell_type": "markdown",
   "metadata": {},
   "source": [
    "# You may need to change this!"
   ]
  },
  {
   "cell_type": "code",
   "execution_count": null,
   "metadata": {},
   "outputs": [],
   "source": [
    "base_dir = '.' # Path to your installation directory\n"
   ]
  },
  {
   "cell_type": "markdown",
   "metadata": {},
   "source": [
    "# Basic parameters\n",
    "\n",
    "* Where are the data stored?\n",
    "* What frames should be shown?\n",
    "* What movie should be used?\n",
    "\n",
    "There is no need to change any of this for the demo."
   ]
  },
  {
   "cell_type": "code",
   "execution_count": null,
   "metadata": {},
   "outputs": [],
   "source": [
    "# Keep arguments in separate dictionaries to loop over\n",
    "examples = {\n",
    "    'sintel': {\n",
    "        'dataset': 'sintel',\n",
    "        'data_dir': op.join(base_dir, 'stimuli/sintel'),\n",
    "        'mov_name': 'mountain_1',\n",
    "        'frame1_num': 30,\n",
    "    },\n",
    "    'spring': {\n",
    "        'dataset': 'spring',\n",
    "        'data_dir': op.join(base_dir, 'stimuli/spring/train'),\n",
    "        'mov_name': '0001',\n",
    "        'frame1_num': 10,\n",
    "    },\n",
    "    'kubric': {\n",
    "        'dataset': 'kubric',\n",
    "        'data_dir': op.join(base_dir, 'stimuli/kubric'),\n",
    "        'mov_name': 'video_out_0000',\n",
    "        'frame1_num': 20,\n",
    "    }\n",
    "}"
   ]
  },
  {
   "cell_type": "code",
   "execution_count": null,
   "metadata": {},
   "outputs": [],
   "source": [
    "ds_names = ['sintel', 'spring', 'kubric']\n",
    "\n",
    "for ds in ds_names:\n",
    "    rgb1, rgb2 = wrappers.get_rgb(**examples[ds])\n",
    "    depth1, depth2 = wrappers.get_depth(**examples[ds])\n",
    "    cam1, cam2 = wrappers.get_camera(**examples[ds])\n",
    "    flow = wrappers.get_flow(**examples[ds])\n",
    "\n",
    "    # replace nans\n",
    "    print('replacing nans in optical flow map ...')\n",
    "    flow = interpolate_nans(flow)\n",
    "\n",
    "    print('replacing nans in depth1 map ...')\n",
    "    depth1 = interpolate_nans(depth1)\n",
    "\n",
    "    print('replacing nans in depth2 map ...')\n",
    "    depth2 = interpolate_nans(depth2)\n",
    "\n",
    "    rig_flo, nonrig_flo = calc_rigid_and_nonrigid_flow((depth1, depth2),\n",
    "    (cam1, cam2), flow, rgb1.shape[:2])\n",
    "\n",
    "    visualize_results((rgb1, rgb2), (depth1, depth2), flow, rig_flo,\n",
    "    nonrig_flo, ds)\n"
   ]
  },
  {
   "cell_type": "code",
   "execution_count": null,
   "metadata": {},
   "outputs": [],
   "source": []
  }
 ],
 "metadata": {
  "kernelspec": {
   "display_name": "Python [conda env:cv] *",
   "language": "python",
   "name": "conda-env-cv-py"
  },
  "language_info": {
   "codemirror_mode": {
    "name": "ipython",
    "version": 3
   },
   "file_extension": ".py",
   "mimetype": "text/x-python",
   "name": "python",
   "nbconvert_exporter": "python",
   "pygments_lexer": "ipython3",
   "version": "3.9.16"
  }
 },
 "nbformat": 4,
 "nbformat_minor": 2
}
